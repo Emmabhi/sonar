{
 "cells": [
  {
   "cell_type": "code",
   "execution_count": 1,
   "id": "70ce6003",
   "metadata": {},
   "outputs": [],
   "source": [
    "import numpy as np\n",
    "import pandas as pd\n"
   ]
  },
  {
   "cell_type": "code",
   "execution_count": 2,
   "id": "9374fece",
   "metadata": {},
   "outputs": [],
   "source": [
    "df = pd.read_csv('sonar.all-data.csv')"
   ]
  },
  {
   "cell_type": "code",
   "execution_count": 3,
   "id": "80030e64",
   "metadata": {},
   "outputs": [
    {
     "data": {
      "text/plain": [
       "(208, 61)"
      ]
     },
     "execution_count": 3,
     "metadata": {},
     "output_type": "execute_result"
    }
   ],
   "source": [
    "df.shape"
   ]
  },
  {
   "cell_type": "code",
   "execution_count": 5,
   "id": "a6f3c00c",
   "metadata": {},
   "outputs": [
    {
     "data": {
      "text/plain": [
       "M    111\n",
       "R     97\n",
       "Name: Label, dtype: int64"
      ]
     },
     "execution_count": 5,
     "metadata": {},
     "output_type": "execute_result"
    }
   ],
   "source": [
    "df['Label'].value_counts()"
   ]
  },
  {
   "cell_type": "code",
   "execution_count": 18,
   "id": "40aacd0b",
   "metadata": {},
   "outputs": [],
   "source": [
    "from sklearn.preprocessing import LabelEncoder\n",
    "le = LabelEncoder()\n",
    "df['Label']=le.fit_transform(df['Label'])"
   ]
  },
  {
   "cell_type": "code",
   "execution_count": 19,
   "id": "35e1aab0",
   "metadata": {},
   "outputs": [],
   "source": [
    "x = df.drop('Label',axis = 1)\n",
    "y = df['Label']\n"
   ]
  },
  {
   "cell_type": "code",
   "execution_count": 20,
   "id": "bf51ac44",
   "metadata": {},
   "outputs": [
    {
     "data": {
      "text/plain": [
       "Freq_1     0\n",
       "Freq_2     0\n",
       "Freq_3     0\n",
       "Freq_4     0\n",
       "Freq_5     0\n",
       "          ..\n",
       "Freq_57    0\n",
       "Freq_58    0\n",
       "Freq_59    0\n",
       "Freq_60    0\n",
       "Label      0\n",
       "Length: 61, dtype: int64"
      ]
     },
     "execution_count": 20,
     "metadata": {},
     "output_type": "execute_result"
    }
   ],
   "source": [
    "df.isnull().sum()"
   ]
  },
  {
   "cell_type": "code",
   "execution_count": 21,
   "id": "9c84f74b",
   "metadata": {},
   "outputs": [],
   "source": [
    "from sklearn.model_selection import train_test_split"
   ]
  },
  {
   "cell_type": "code",
   "execution_count": 22,
   "id": "1f751e75",
   "metadata": {},
   "outputs": [],
   "source": [
    "x_train,x_test,y_train,y_test = train_test_split(x,y,test_size = 0.25,random_state = 1,stratify = y)"
   ]
  },
  {
   "cell_type": "code",
   "execution_count": 23,
   "id": "3a956b6b",
   "metadata": {},
   "outputs": [],
   "source": [
    "import tensorflow as tf\n",
    "from tensorflow import keras"
   ]
  },
  {
   "cell_type": "code",
   "execution_count": 24,
   "id": "7b2c266f",
   "metadata": {},
   "outputs": [
    {
     "data": {
      "text/plain": [
       "(52, 60)"
      ]
     },
     "execution_count": 24,
     "metadata": {},
     "output_type": "execute_result"
    }
   ],
   "source": [
    "x_test.shape"
   ]
  },
  {
   "cell_type": "code",
   "execution_count": 25,
   "id": "278af632",
   "metadata": {},
   "outputs": [],
   "source": [
    "model = keras.Sequential([\n",
    "    keras.layers.Dense(60,input_dim=60,activation='relu'),\n",
    "    keras.layers.Dense(30,activation='relu'),\n",
    "    keras.layers.Dense(15,activation='relu'),\n",
    "    keras.layers.Dense(1,activation='sigmoid')\n",
    "])"
   ]
  },
  {
   "cell_type": "code",
   "execution_count": 26,
   "id": "8b717d4a",
   "metadata": {},
   "outputs": [],
   "source": [
    "model.compile(\n",
    "    loss = 'binary_crossentropy',\n",
    "    optimizer = 'adam',\n",
    "    metrics = ['accuracy']\n",
    ")"
   ]
  },
  {
   "cell_type": "code",
   "execution_count": 27,
   "id": "ec6de167",
   "metadata": {},
   "outputs": [
    {
     "name": "stdout",
     "output_type": "stream",
     "text": [
      "Epoch 1/200\n",
      "20/20 [==============================] - 0s 950us/step - loss: 0.6885 - accuracy: 0.5064\n",
      "Epoch 2/200\n",
      "20/20 [==============================] - 0s 1ms/step - loss: 0.6545 - accuracy: 0.6154\n",
      "Epoch 3/200\n",
      "20/20 [==============================] - 0s 1ms/step - loss: 0.6274 - accuracy: 0.6474\n",
      "Epoch 4/200\n",
      "20/20 [==============================] - 0s 1ms/step - loss: 0.5782 - accuracy: 0.7949\n",
      "Epoch 5/200\n",
      "20/20 [==============================] - 0s 1ms/step - loss: 0.5452 - accuracy: 0.7179\n",
      "Epoch 6/200\n",
      "20/20 [==============================] - 0s 1ms/step - loss: 0.4994 - accuracy: 0.7564\n",
      "Epoch 7/200\n",
      "20/20 [==============================] - 0s 1ms/step - loss: 0.4569 - accuracy: 0.7949\n",
      "Epoch 8/200\n",
      "20/20 [==============================] - 0s 1ms/step - loss: 0.4207 - accuracy: 0.8141\n",
      "Epoch 9/200\n",
      "20/20 [==============================] - 0s 1ms/step - loss: 0.4012 - accuracy: 0.8141\n",
      "Epoch 10/200\n",
      "20/20 [==============================] - 0s 1ms/step - loss: 0.3660 - accuracy: 0.8462\n",
      "Epoch 11/200\n",
      "20/20 [==============================] - 0s 1ms/step - loss: 0.3418 - accuracy: 0.8590\n",
      "Epoch 12/200\n",
      "20/20 [==============================] - 0s 1000us/step - loss: 0.3272 - accuracy: 0.8462\n",
      "Epoch 13/200\n",
      "20/20 [==============================] - 0s 1ms/step - loss: 0.3071 - accuracy: 0.8846\n",
      "Epoch 14/200\n",
      "20/20 [==============================] - 0s 1ms/step - loss: 0.2787 - accuracy: 0.9167\n",
      "Epoch 15/200\n",
      "20/20 [==============================] - 0s 1ms/step - loss: 0.2683 - accuracy: 0.9038\n",
      "Epoch 16/200\n",
      "20/20 [==============================] - 0s 1ms/step - loss: 0.2762 - accuracy: 0.8782\n",
      "Epoch 17/200\n",
      "20/20 [==============================] - 0s 1ms/step - loss: 0.2481 - accuracy: 0.8910\n",
      "Epoch 18/200\n",
      "20/20 [==============================] - 0s 1ms/step - loss: 0.2575 - accuracy: 0.9038\n",
      "Epoch 19/200\n",
      "20/20 [==============================] - 0s 950us/step - loss: 0.2315 - accuracy: 0.9038\n",
      "Epoch 20/200\n",
      "20/20 [==============================] - 0s 1ms/step - loss: 0.2368 - accuracy: 0.8910\n",
      "Epoch 21/200\n",
      "20/20 [==============================] - 0s 1ms/step - loss: 0.2794 - accuracy: 0.8590\n",
      "Epoch 22/200\n",
      "20/20 [==============================] - 0s 1ms/step - loss: 0.2143 - accuracy: 0.9038\n",
      "Epoch 23/200\n",
      "20/20 [==============================] - 0s 1000us/step - loss: 0.1815 - accuracy: 0.9295\n",
      "Epoch 24/200\n",
      "20/20 [==============================] - ETA: 0s - loss: 0.0651 - accuracy: 1.00 - 0s 1ms/step - loss: 0.1632 - accuracy: 0.9359\n",
      "Epoch 25/200\n",
      "20/20 [==============================] - 0s 1ms/step - loss: 0.1656 - accuracy: 0.9423\n",
      "Epoch 26/200\n",
      "20/20 [==============================] - 0s 950us/step - loss: 0.1804 - accuracy: 0.9231\n",
      "Epoch 27/200\n",
      "20/20 [==============================] - 0s 1ms/step - loss: 0.1524 - accuracy: 0.9551\n",
      "Epoch 28/200\n",
      "20/20 [==============================] - 0s 1000us/step - loss: 0.1244 - accuracy: 0.9808\n",
      "Epoch 29/200\n",
      "20/20 [==============================] - 0s 1ms/step - loss: 0.1686 - accuracy: 0.9295\n",
      "Epoch 30/200\n",
      "20/20 [==============================] - 0s 1ms/step - loss: 0.1339 - accuracy: 0.9744\n",
      "Epoch 31/200\n",
      "20/20 [==============================] - 0s 1ms/step - loss: 0.1032 - accuracy: 0.9808\n",
      "Epoch 32/200\n",
      "20/20 [==============================] - 0s 1ms/step - loss: 0.1006 - accuracy: 0.9872\n",
      "Epoch 33/200\n",
      "20/20 [==============================] - 0s 1000us/step - loss: 0.0986 - accuracy: 0.9872\n",
      "Epoch 34/200\n",
      "20/20 [==============================] - 0s 1ms/step - loss: 0.0941 - accuracy: 0.9936\n",
      "Epoch 35/200\n",
      "20/20 [==============================] - 0s 1ms/step - loss: 0.0934 - accuracy: 0.9615\n",
      "Epoch 36/200\n",
      "20/20 [==============================] - 0s 800us/step - loss: 0.0846 - accuracy: 0.9679\n",
      "Epoch 37/200\n",
      "20/20 [==============================] - 0s 1ms/step - loss: 0.0877 - accuracy: 0.9808\n",
      "Epoch 38/200\n",
      "20/20 [==============================] - 0s 800us/step - loss: 0.0810 - accuracy: 0.9744\n",
      "Epoch 39/200\n",
      "20/20 [==============================] - 0s 1ms/step - loss: 0.0736 - accuracy: 0.9872\n",
      "Epoch 40/200\n",
      "20/20 [==============================] - 0s 900us/step - loss: 0.0648 - accuracy: 0.9808\n",
      "Epoch 41/200\n",
      "20/20 [==============================] - 0s 1ms/step - loss: 0.0552 - accuracy: 0.9872\n",
      "Epoch 42/200\n",
      "20/20 [==============================] - 0s 850us/step - loss: 0.0605 - accuracy: 0.9936\n",
      "Epoch 43/200\n",
      "20/20 [==============================] - 0s 1ms/step - loss: 0.0461 - accuracy: 1.0000\n",
      "Epoch 44/200\n",
      "20/20 [==============================] - 0s 850us/step - loss: 0.0387 - accuracy: 1.0000\n",
      "Epoch 45/200\n",
      "20/20 [==============================] - 0s 1ms/step - loss: 0.0366 - accuracy: 1.0000\n",
      "Epoch 46/200\n",
      "20/20 [==============================] - 0s 850us/step - loss: 0.0457 - accuracy: 1.0000\n",
      "Epoch 47/200\n",
      "20/20 [==============================] - 0s 1ms/step - loss: 0.0405 - accuracy: 0.9936\n",
      "Epoch 48/200\n",
      "20/20 [==============================] - 0s 900us/step - loss: 0.0330 - accuracy: 1.0000\n",
      "Epoch 49/200\n",
      "20/20 [==============================] - 0s 1ms/step - loss: 0.0301 - accuracy: 1.0000\n",
      "Epoch 50/200\n",
      "20/20 [==============================] - 0s 900us/step - loss: 0.0253 - accuracy: 1.0000\n",
      "Epoch 51/200\n",
      "20/20 [==============================] - 0s 1000us/step - loss: 0.0230 - accuracy: 1.0000\n",
      "Epoch 52/200\n",
      "20/20 [==============================] - 0s 950us/step - loss: 0.0212 - accuracy: 1.0000\n",
      "Epoch 53/200\n",
      "20/20 [==============================] - 0s 1ms/step - loss: 0.0198 - accuracy: 1.0000\n",
      "Epoch 54/200\n",
      "20/20 [==============================] - 0s 1ms/step - loss: 0.0165 - accuracy: 1.0000\n",
      "Epoch 55/200\n",
      "20/20 [==============================] - 0s 1ms/step - loss: 0.0165 - accuracy: 1.0000\n",
      "Epoch 56/200\n",
      "20/20 [==============================] - 0s 1ms/step - loss: 0.0164 - accuracy: 1.0000\n",
      "Epoch 57/200\n",
      "20/20 [==============================] - 0s 1000us/step - loss: 0.0137 - accuracy: 1.0000\n",
      "Epoch 58/200\n",
      "20/20 [==============================] - 0s 950us/step - loss: 0.0168 - accuracy: 1.0000\n",
      "Epoch 59/200\n",
      "20/20 [==============================] - 0s 1ms/step - loss: 0.0153 - accuracy: 1.0000\n",
      "Epoch 60/200\n",
      "20/20 [==============================] - 0s 1ms/step - loss: 0.0161 - accuracy: 1.0000\n",
      "Epoch 61/200\n",
      "20/20 [==============================] - 0s 1ms/step - loss: 0.0115 - accuracy: 1.0000\n",
      "Epoch 62/200\n",
      "20/20 [==============================] - 0s 1ms/step - loss: 0.0099 - accuracy: 1.0000\n",
      "Epoch 63/200\n",
      "20/20 [==============================] - 0s 1ms/step - loss: 0.0097 - accuracy: 1.0000\n",
      "Epoch 64/200\n",
      "20/20 [==============================] - 0s 1ms/step - loss: 0.0081 - accuracy: 1.0000\n",
      "Epoch 65/200\n",
      "20/20 [==============================] - 0s 1ms/step - loss: 0.0092 - accuracy: 1.0000\n",
      "Epoch 66/200\n",
      "20/20 [==============================] - 0s 1ms/step - loss: 0.0077 - accuracy: 1.0000\n",
      "Epoch 67/200\n",
      "20/20 [==============================] - 0s 1ms/step - loss: 0.0074 - accuracy: 1.0000\n",
      "Epoch 68/200\n",
      "20/20 [==============================] - 0s 1ms/step - loss: 0.0064 - accuracy: 1.0000\n",
      "Epoch 69/200\n",
      "20/20 [==============================] - 0s 850us/step - loss: 0.0071 - accuracy: 1.0000\n",
      "Epoch 70/200\n",
      "20/20 [==============================] - 0s 1ms/step - loss: 0.0056 - accuracy: 1.0000\n",
      "Epoch 71/200\n",
      "20/20 [==============================] - 0s 800us/step - loss: 0.0055 - accuracy: 1.0000\n",
      "Epoch 72/200\n",
      "20/20 [==============================] - 0s 1ms/step - loss: 0.0051 - accuracy: 1.0000\n",
      "Epoch 73/200\n",
      "20/20 [==============================] - 0s 850us/step - loss: 0.0051 - accuracy: 1.0000\n",
      "Epoch 74/200\n",
      "20/20 [==============================] - 0s 1ms/step - loss: 0.0047 - accuracy: 1.0000\n",
      "Epoch 75/200\n",
      "20/20 [==============================] - 0s 750us/step - loss: 0.0050 - accuracy: 1.0000\n",
      "Epoch 76/200\n",
      "20/20 [==============================] - 0s 1000us/step - loss: 0.0053 - accuracy: 1.0000\n",
      "Epoch 77/200\n",
      "20/20 [==============================] - 0s 1ms/step - loss: 0.0042 - accuracy: 1.0000\n",
      "Epoch 78/200\n",
      "20/20 [==============================] - 0s 800us/step - loss: 0.0041 - accuracy: 1.0000\n",
      "Epoch 79/200\n",
      "20/20 [==============================] - 0s 1ms/step - loss: 0.0037 - accuracy: 1.0000\n",
      "Epoch 80/200\n",
      "20/20 [==============================] - 0s 1ms/step - loss: 0.0036 - accuracy: 1.0000\n",
      "Epoch 81/200\n",
      "20/20 [==============================] - 0s 950us/step - loss: 0.0037 - accuracy: 1.0000\n",
      "Epoch 82/200\n"
     ]
    },
    {
     "name": "stdout",
     "output_type": "stream",
     "text": [
      "20/20 [==============================] - 0s 1ms/step - loss: 0.0033 - accuracy: 1.0000\n",
      "Epoch 83/200\n",
      "20/20 [==============================] - 0s 900us/step - loss: 0.0031 - accuracy: 1.0000\n",
      "Epoch 84/200\n",
      "20/20 [==============================] - 0s 950us/step - loss: 0.0030 - accuracy: 1.0000\n",
      "Epoch 85/200\n",
      "20/20 [==============================] - 0s 950us/step - loss: 0.0028 - accuracy: 1.0000\n",
      "Epoch 86/200\n",
      "20/20 [==============================] - 0s 1ms/step - loss: 0.0027 - accuracy: 1.0000\n",
      "Epoch 87/200\n",
      "20/20 [==============================] - 0s 1ms/step - loss: 0.0026 - accuracy: 1.0000\n",
      "Epoch 88/200\n",
      "20/20 [==============================] - 0s 1000us/step - loss: 0.0026 - accuracy: 1.0000\n",
      "Epoch 89/200\n",
      "20/20 [==============================] - 0s 950us/step - loss: 0.0026 - accuracy: 1.0000\n",
      "Epoch 90/200\n",
      "20/20 [==============================] - 0s 800us/step - loss: 0.0028 - accuracy: 1.0000\n",
      "Epoch 91/200\n",
      "20/20 [==============================] - 0s 950us/step - loss: 0.0023 - accuracy: 1.0000\n",
      "Epoch 92/200\n",
      "20/20 [==============================] - 0s 1000us/step - loss: 0.0022 - accuracy: 1.0000\n",
      "Epoch 93/200\n",
      "20/20 [==============================] - 0s 1ms/step - loss: 0.0021 - accuracy: 1.0000\n",
      "Epoch 94/200\n",
      "20/20 [==============================] - 0s 1ms/step - loss: 0.0020 - accuracy: 1.0000\n",
      "Epoch 95/200\n",
      "20/20 [==============================] - 0s 1000us/step - loss: 0.0020 - accuracy: 1.0000\n",
      "Epoch 96/200\n",
      "20/20 [==============================] - 0s 1000us/step - loss: 0.0020 - accuracy: 1.0000\n",
      "Epoch 97/200\n",
      "20/20 [==============================] - 0s 1ms/step - loss: 0.0018 - accuracy: 1.0000\n",
      "Epoch 98/200\n",
      "20/20 [==============================] - 0s 950us/step - loss: 0.0018 - accuracy: 1.0000\n",
      "Epoch 99/200\n",
      "20/20 [==============================] - 0s 1ms/step - loss: 0.0019 - accuracy: 1.0000\n",
      "Epoch 100/200\n",
      "20/20 [==============================] - 0s 900us/step - loss: 0.0018 - accuracy: 1.0000\n",
      "Epoch 101/200\n",
      "20/20 [==============================] - 0s 750us/step - loss: 0.0016 - accuracy: 1.0000\n",
      "Epoch 102/200\n",
      "20/20 [==============================] - 0s 950us/step - loss: 0.0015 - accuracy: 1.0000\n",
      "Epoch 103/200\n",
      "20/20 [==============================] - 0s 950us/step - loss: 0.0016 - accuracy: 1.0000\n",
      "Epoch 104/200\n",
      "20/20 [==============================] - 0s 1000us/step - loss: 0.0015 - accuracy: 1.0000\n",
      "Epoch 105/200\n",
      "20/20 [==============================] - 0s 1ms/step - loss: 0.0014 - accuracy: 1.0000\n",
      "Epoch 106/200\n",
      "20/20 [==============================] - 0s 950us/step - loss: 0.0014 - accuracy: 1.0000\n",
      "Epoch 107/200\n",
      "20/20 [==============================] - 0s 1ms/step - loss: 0.0015 - accuracy: 1.0000\n",
      "Epoch 108/200\n",
      "20/20 [==============================] - 0s 1ms/step - loss: 0.0013 - accuracy: 1.0000\n",
      "Epoch 109/200\n",
      "20/20 [==============================] - 0s 800us/step - loss: 0.0012 - accuracy: 1.0000\n",
      "Epoch 110/200\n",
      "20/20 [==============================] - 0s 850us/step - loss: 0.0012 - accuracy: 1.0000\n",
      "Epoch 111/200\n",
      "20/20 [==============================] - 0s 950us/step - loss: 0.0011 - accuracy: 1.0000\n",
      "Epoch 112/200\n",
      "20/20 [==============================] - 0s 1ms/step - loss: 0.0011 - accuracy: 1.0000\n",
      "Epoch 113/200\n",
      "20/20 [==============================] - 0s 1ms/step - loss: 0.0011 - accuracy: 1.0000\n",
      "Epoch 114/200\n",
      "20/20 [==============================] - 0s 950us/step - loss: 0.0010 - accuracy: 1.0000\n",
      "Epoch 115/200\n",
      "20/20 [==============================] - 0s 1000us/step - loss: 0.0010 - accuracy: 1.0000\n",
      "Epoch 116/200\n",
      "20/20 [==============================] - 0s 1000us/step - loss: 0.0010 - accuracy: 1.0000\n",
      "Epoch 117/200\n",
      "20/20 [==============================] - 0s 1ms/step - loss: 9.6965e-04 - accuracy: 1.0000\n",
      "Epoch 118/200\n",
      "20/20 [==============================] - 0s 1ms/step - loss: 9.5563e-04 - accuracy: 1.0000\n",
      "Epoch 119/200\n",
      "20/20 [==============================] - 0s 1ms/step - loss: 9.6277e-04 - accuracy: 1.0000\n",
      "Epoch 120/200\n",
      "20/20 [==============================] - 0s 1ms/step - loss: 9.4849e-04 - accuracy: 1.0000\n",
      "Epoch 121/200\n",
      "20/20 [==============================] - 0s 1ms/step - loss: 8.8840e-04 - accuracy: 1.0000\n",
      "Epoch 122/200\n",
      "20/20 [==============================] - 0s 1ms/step - loss: 8.6925e-04 - accuracy: 1.0000\n",
      "Epoch 123/200\n",
      "20/20 [==============================] - 0s 1ms/step - loss: 8.4482e-04 - accuracy: 1.0000\n",
      "Epoch 124/200\n",
      "20/20 [==============================] - 0s 950us/step - loss: 8.2644e-04 - accuracy: 1.0000\n",
      "Epoch 125/200\n",
      "20/20 [==============================] - 0s 950us/step - loss: 8.0264e-04 - accuracy: 1.0000\n",
      "Epoch 126/200\n",
      "20/20 [==============================] - 0s 950us/step - loss: 7.7989e-04 - accuracy: 1.0000\n",
      "Epoch 127/200\n",
      "20/20 [==============================] - 0s 950us/step - loss: 7.7812e-04 - accuracy: 1.0000\n",
      "Epoch 128/200\n",
      "20/20 [==============================] - 0s 1ms/step - loss: 7.4154e-04 - accuracy: 1.0000\n",
      "Epoch 129/200\n",
      "20/20 [==============================] - 0s 1000us/step - loss: 7.2198e-04 - accuracy: 1.0000\n",
      "Epoch 130/200\n",
      "20/20 [==============================] - 0s 1ms/step - loss: 7.1949e-04 - accuracy: 1.0000\n",
      "Epoch 131/200\n",
      "20/20 [==============================] - 0s 1ms/step - loss: 6.8172e-04 - accuracy: 1.0000\n",
      "Epoch 132/200\n",
      "20/20 [==============================] - 0s 1000us/step - loss: 6.8960e-04 - accuracy: 1.0000\n",
      "Epoch 133/200\n",
      "20/20 [==============================] - 0s 1ms/step - loss: 6.9425e-04 - accuracy: 1.0000\n",
      "Epoch 134/200\n",
      "20/20 [==============================] - 0s 900us/step - loss: 6.4545e-04 - accuracy: 1.0000\n",
      "Epoch 135/200\n",
      "20/20 [==============================] - 0s 900us/step - loss: 6.1688e-04 - accuracy: 1.0000\n",
      "Epoch 136/200\n",
      "20/20 [==============================] - 0s 900us/step - loss: 6.0681e-04 - accuracy: 1.0000\n",
      "Epoch 137/200\n",
      "20/20 [==============================] - 0s 950us/step - loss: 5.8799e-04 - accuracy: 1.0000\n",
      "Epoch 138/200\n",
      "20/20 [==============================] - 0s 897us/step - loss: 5.9224e-04 - accuracy: 1.0000\n",
      "Epoch 139/200\n",
      "20/20 [==============================] - 0s 1ms/step - loss: 5.7851e-04 - accuracy: 1.0000\n",
      "Epoch 140/200\n",
      "20/20 [==============================] - 0s 1ms/step - loss: 5.8113e-04 - accuracy: 1.0000\n",
      "Epoch 141/200\n",
      "20/20 [==============================] - 0s 950us/step - loss: 5.4678e-04 - accuracy: 1.0000\n",
      "Epoch 142/200\n",
      "20/20 [==============================] - 0s 1ms/step - loss: 5.4249e-04 - accuracy: 1.0000\n",
      "Epoch 143/200\n",
      "20/20 [==============================] - 0s 1ms/step - loss: 5.4683e-04 - accuracy: 1.0000\n",
      "Epoch 144/200\n",
      "20/20 [==============================] - 0s 1ms/step - loss: 5.1167e-04 - accuracy: 1.0000\n",
      "Epoch 145/200\n",
      "20/20 [==============================] - ETA: 0s - loss: 2.5339e-04 - accuracy: 1.00 - 0s 850us/step - loss: 5.0105e-04 - accuracy: 1.0000\n",
      "Epoch 146/200\n",
      "20/20 [==============================] - 0s 1ms/step - loss: 4.9472e-04 - accuracy: 1.0000\n",
      "Epoch 147/200\n",
      "20/20 [==============================] - 0s 1ms/step - loss: 4.7661e-04 - accuracy: 1.0000\n",
      "Epoch 148/200\n",
      "20/20 [==============================] - 0s 950us/step - loss: 4.6743e-04 - accuracy: 1.0000\n",
      "Epoch 149/200\n",
      "20/20 [==============================] - 0s 950us/step - loss: 4.5309e-04 - accuracy: 1.0000\n",
      "Epoch 150/200\n",
      "20/20 [==============================] - 0s 1ms/step - loss: 4.5301e-04 - accuracy: 1.0000\n",
      "Epoch 151/200\n",
      "20/20 [==============================] - 0s 1ms/step - loss: 4.6128e-04 - accuracy: 1.0000\n",
      "Epoch 152/200\n",
      "20/20 [==============================] - 0s 950us/step - loss: 4.4747e-04 - accuracy: 1.0000\n",
      "Epoch 153/200\n",
      "20/20 [==============================] - 0s 1000us/step - loss: 4.2609e-04 - accuracy: 1.0000\n",
      "Epoch 154/200\n",
      "20/20 [==============================] - 0s 950us/step - loss: 4.1004e-04 - accuracy: 1.0000\n",
      "Epoch 155/200\n",
      "20/20 [==============================] - 0s 999us/step - loss: 4.3009e-04 - accuracy: 1.0000\n",
      "Epoch 156/200\n",
      "20/20 [==============================] - 0s 1ms/step - loss: 4.4518e-04 - accuracy: 1.0000\n",
      "Epoch 157/200\n",
      "20/20 [==============================] - 0s 1000us/step - loss: 4.1596e-04 - accuracy: 1.0000\n",
      "Epoch 158/200\n",
      "20/20 [==============================] - 0s 1ms/step - loss: 3.9224e-04 - accuracy: 1.0000\n",
      "Epoch 159/200\n",
      "20/20 [==============================] - 0s 1ms/step - loss: 3.7040e-04 - accuracy: 1.0000\n",
      "Epoch 160/200\n"
     ]
    },
    {
     "name": "stdout",
     "output_type": "stream",
     "text": [
      "20/20 [==============================] - 0s 1ms/step - loss: 3.5903e-04 - accuracy: 1.0000\n",
      "Epoch 161/200\n",
      "20/20 [==============================] - 0s 1ms/step - loss: 3.5169e-04 - accuracy: 1.0000\n",
      "Epoch 162/200\n",
      "20/20 [==============================] - 0s 1ms/step - loss: 3.5052e-04 - accuracy: 1.0000\n",
      "Epoch 163/200\n",
      "20/20 [==============================] - 0s 1ms/step - loss: 3.4035e-04 - accuracy: 1.0000\n",
      "Epoch 164/200\n",
      "20/20 [==============================] - 0s 1ms/step - loss: 3.3868e-04 - accuracy: 1.0000\n",
      "Epoch 165/200\n",
      "20/20 [==============================] - 0s 1ms/step - loss: 3.3229e-04 - accuracy: 1.0000\n",
      "Epoch 166/200\n",
      "20/20 [==============================] - 0s 1ms/step - loss: 3.2184e-04 - accuracy: 1.0000\n",
      "Epoch 167/200\n",
      "20/20 [==============================] - 0s 1ms/step - loss: 3.1078e-04 - accuracy: 1.0000\n",
      "Epoch 168/200\n",
      "20/20 [==============================] - 0s 1ms/step - loss: 3.0591e-04 - accuracy: 1.0000\n",
      "Epoch 169/200\n",
      "20/20 [==============================] - 0s 1ms/step - loss: 3.0112e-04 - accuracy: 1.0000\n",
      "Epoch 170/200\n",
      "20/20 [==============================] - 0s 1ms/step - loss: 2.9665e-04 - accuracy: 1.0000\n",
      "Epoch 171/200\n",
      "20/20 [==============================] - 0s 1ms/step - loss: 2.9471e-04 - accuracy: 1.0000\n",
      "Epoch 172/200\n",
      "20/20 [==============================] - 0s 1ms/step - loss: 2.8018e-04 - accuracy: 1.0000\n",
      "Epoch 173/200\n",
      "20/20 [==============================] - 0s 1ms/step - loss: 2.7956e-04 - accuracy: 1.0000\n",
      "Epoch 174/200\n",
      "20/20 [==============================] - 0s 1ms/step - loss: 2.7216e-04 - accuracy: 1.0000\n",
      "Epoch 175/200\n",
      "20/20 [==============================] - 0s 1ms/step - loss: 2.7077e-04 - accuracy: 1.0000\n",
      "Epoch 176/200\n",
      "20/20 [==============================] - 0s 1ms/step - loss: 2.6767e-04 - accuracy: 1.0000\n",
      "Epoch 177/200\n",
      "20/20 [==============================] - 0s 1ms/step - loss: 2.6137e-04 - accuracy: 1.0000\n",
      "Epoch 178/200\n",
      "20/20 [==============================] - 0s 1ms/step - loss: 2.5412e-04 - accuracy: 1.0000\n",
      "Epoch 179/200\n",
      "20/20 [==============================] - 0s 1ms/step - loss: 2.5278e-04 - accuracy: 1.0000\n",
      "Epoch 180/200\n",
      "20/20 [==============================] - 0s 1ms/step - loss: 2.5149e-04 - accuracy: 1.0000\n",
      "Epoch 181/200\n",
      "20/20 [==============================] - 0s 1ms/step - loss: 2.4395e-04 - accuracy: 1.0000\n",
      "Epoch 182/200\n",
      "20/20 [==============================] - 0s 2ms/step - loss: 2.3470e-04 - accuracy: 1.0000\n",
      "Epoch 183/200\n",
      "20/20 [==============================] - 0s 900us/step - loss: 2.3173e-04 - accuracy: 1.0000\n",
      "Epoch 184/200\n",
      "20/20 [==============================] - 0s 1ms/step - loss: 2.3253e-04 - accuracy: 1.0000\n",
      "Epoch 185/200\n",
      "20/20 [==============================] - 0s 1ms/step - loss: 2.2570e-04 - accuracy: 1.0000\n",
      "Epoch 186/200\n",
      "20/20 [==============================] - 0s 1000us/step - loss: 2.2558e-04 - accuracy: 1.0000\n",
      "Epoch 187/200\n",
      "20/20 [==============================] - 0s 900us/step - loss: 2.2511e-04 - accuracy: 1.0000\n",
      "Epoch 188/200\n",
      "20/20 [==============================] - 0s 950us/step - loss: 2.1623e-04 - accuracy: 1.0000\n",
      "Epoch 189/200\n",
      "20/20 [==============================] - 0s 900us/step - loss: 2.0923e-04 - accuracy: 1.0000\n",
      "Epoch 190/200\n",
      "20/20 [==============================] - 0s 1ms/step - loss: 2.0553e-04 - accuracy: 1.0000\n",
      "Epoch 191/200\n",
      "20/20 [==============================] - 0s 900us/step - loss: 2.0409e-04 - accuracy: 1.0000\n",
      "Epoch 192/200\n",
      "20/20 [==============================] - 0s 950us/step - loss: 1.9971e-04 - accuracy: 1.0000\n",
      "Epoch 193/200\n",
      "20/20 [==============================] - 0s 1000us/step - loss: 1.9388e-04 - accuracy: 1.0000\n",
      "Epoch 194/200\n",
      "20/20 [==============================] - 0s 900us/step - loss: 2.0103e-04 - accuracy: 1.0000\n",
      "Epoch 195/200\n",
      "20/20 [==============================] - 0s 1ms/step - loss: 1.9330e-04 - accuracy: 1.0000\n",
      "Epoch 196/200\n",
      "20/20 [==============================] - 0s 950us/step - loss: 2.0013e-04 - accuracy: 1.0000\n",
      "Epoch 197/200\n",
      "20/20 [==============================] - 0s 1ms/step - loss: 1.9565e-04 - accuracy: 1.0000\n",
      "Epoch 198/200\n",
      "20/20 [==============================] - 0s 900us/step - loss: 1.7967e-04 - accuracy: 1.0000\n",
      "Epoch 199/200\n",
      "20/20 [==============================] - 0s 950us/step - loss: 1.7699e-04 - accuracy: 1.0000\n",
      "Epoch 200/200\n",
      "20/20 [==============================] - 0s 1ms/step - loss: 1.7550e-04 - accuracy: 1.0000\n"
     ]
    },
    {
     "data": {
      "text/plain": [
       "<tensorflow.python.keras.callbacks.History at 0x255ad8fd550>"
      ]
     },
     "execution_count": 27,
     "metadata": {},
     "output_type": "execute_result"
    }
   ],
   "source": [
    "model.fit(x_train,y_train,epochs = 200,batch_size = 8)"
   ]
  },
  {
   "cell_type": "code",
   "execution_count": 28,
   "id": "284e1441",
   "metadata": {},
   "outputs": [
    {
     "name": "stdout",
     "output_type": "stream",
     "text": [
      "2/2 [==============================] - 0s 1000us/step - loss: 1.5164 - accuracy: 0.7885\n"
     ]
    },
    {
     "data": {
      "text/plain": [
       "[1.516391634941101, 0.7884615659713745]"
      ]
     },
     "execution_count": 28,
     "metadata": {},
     "output_type": "execute_result"
    }
   ],
   "source": [
    "model.evaluate(x_test,y_test)"
   ]
  },
  {
   "cell_type": "code",
   "execution_count": 30,
   "id": "db20127c",
   "metadata": {},
   "outputs": [],
   "source": [
    "y_pred = model.predict(x_test)\n",
    "y_pred = np.round(y_pred)\n"
   ]
  },
  {
   "cell_type": "code",
   "execution_count": 32,
   "id": "fd9eb485",
   "metadata": {},
   "outputs": [],
   "source": [
    "from sklearn.metrics import classification_report"
   ]
  },
  {
   "cell_type": "code",
   "execution_count": 34,
   "id": "bc6bc515",
   "metadata": {},
   "outputs": [],
   "source": [
    "report = classification_report(y_test,y_pred)"
   ]
  },
  {
   "cell_type": "code",
   "execution_count": 36,
   "id": "f3130590",
   "metadata": {},
   "outputs": [
    {
     "name": "stdout",
     "output_type": "stream",
     "text": [
      "              precision    recall  f1-score   support\n",
      "\n",
      "           0       0.84      0.75      0.79        28\n",
      "           1       0.74      0.83      0.78        24\n",
      "\n",
      "    accuracy                           0.79        52\n",
      "   macro avg       0.79      0.79      0.79        52\n",
      "weighted avg       0.79      0.79      0.79        52\n",
      "\n"
     ]
    }
   ],
   "source": [
    "print(report)"
   ]
  },
  {
   "cell_type": "code",
   "execution_count": null,
   "id": "cda602cb",
   "metadata": {},
   "outputs": [],
   "source": []
  }
 ],
 "metadata": {
  "kernelspec": {
   "display_name": "Python 3 (ipykernel)",
   "language": "python",
   "name": "python3"
  },
  "language_info": {
   "codemirror_mode": {
    "name": "ipython",
    "version": 3
   },
   "file_extension": ".py",
   "mimetype": "text/x-python",
   "name": "python",
   "nbconvert_exporter": "python",
   "pygments_lexer": "ipython3",
   "version": "3.8.8"
  }
 },
 "nbformat": 4,
 "nbformat_minor": 5
}
